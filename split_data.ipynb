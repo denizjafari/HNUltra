{
 "cells": [
  {
   "cell_type": "markdown",
   "metadata": {},
   "source": [
    "This notebook is used for splitting data into train/val/test sets"
   ]
  },
  {
   "cell_type": "code",
   "execution_count": 17,
   "metadata": {},
   "outputs": [],
   "source": [
    "# Change this to your local\n",
    "ROOT_DIR = \"/home/andreasabo/Documents/HNProject\""
   ]
  },
  {
   "cell_type": "code",
   "execution_count": 18,
   "metadata": {},
   "outputs": [],
   "source": [
    "data_set_to_split_on = \"at_least_one_target_and_labelled_view\""
   ]
  },
  {
   "cell_type": "code",
   "execution_count": 61,
   "metadata": {},
   "outputs": [],
   "source": [
    "import pandas as pd\n",
    "import matplotlib.pyplot as plt\n",
    "import os\n",
    "from sklearn.model_selection import train_test_split"
   ]
  },
  {
   "cell_type": "code",
   "execution_count": 20,
   "metadata": {},
   "outputs": [],
   "source": [
    "csv_path = os.path.join(ROOT_DIR, \"all_label_df.csv\")\n",
    "df = pd.read_csv(csv_path)"
   ]
  },
  {
   "cell_type": "code",
   "execution_count": 29,
   "metadata": {},
   "outputs": [
    {
     "name": "stdout",
     "output_type": "stream",
     "text": [
      "There are 9581 from 230 scans from 71 patients in this dataframe.\n",
      "Index(['Unnamed: 0', 'num_in_seq', 'function_label', 'image_ids', 'image_manu',\n",
      "       'reflux_label', 'surgery_label', 'view_label', 'subj_id', 'scan_num',\n",
      "       'image_num'],\n",
      "      dtype='object')\n"
     ]
    }
   ],
   "source": [
    "# Define the df of images we want to consider as the entire dataset\n",
    "if data_set_to_split_on == \"at_least_one_target_and_labelled_view\":\n",
    "    labelled_view_df = df[(df.view_label != \"Missing\") & (df.view_label != \"Other\")]\n",
    "    frame_to_split = labelled_view_df[(labelled_view_df.function_label != \"Missing\") | (labelled_view_df.reflux_label != \"Missing\") | (labelled_view_df.surgery_label != \"Missing\")]\n",
    "elif 0: # Replace this with other datasets as we define them\n",
    "    pass\n",
    "else:\n",
    "    raise Exception(\"Invalid data to split on!\")\n",
    "\n",
    "\n",
    "# Some QA to make sure the dataset we are using is what we expect it to be\n",
    "frame_to_split_count = frame_to_split.groupby('subj_id').scan_num.agg(['nunique'])\n",
    "print(f\"There are {len(frame_to_split)} from {frame_to_split_count['nunique'].sum()} scans from {frame_to_split.subj_id.nunique()} patients in this dataframe.\")\n",
    "print(frame_to_split.columns)"
   ]
  },
  {
   "cell_type": "code",
   "execution_count": 137,
   "metadata": {},
   "outputs": [
    {
     "name": "stdout",
     "output_type": "stream",
     "text": [
      "img_count                   9581.0\n",
      "img_percent_count              1.0\n",
      "Philips Medical Systems     5119.0\n",
      "TOSHIBA_MEC                 3599.0\n",
      "ATL                          260.0\n",
      "ACUSON                       219.0\n",
      "SAMSUNG MEDISON CO.,LTD.     133.0\n",
      "TOSHIBA_MEC_US               125.0\n",
      "GE Medical Systems            83.0\n",
      "GE Healthcare                 43.0\n",
      "dtype: float64\n"
     ]
    }
   ],
   "source": [
    "# Add image counts and percentage of total images that belong to each patient\n",
    "patient_scan_details = frame_to_split.groupby('subj_id').image_num.agg(img_count='count')\n",
    "patient_scan_details['img_percent_count'] = patient_scan_details['img_count'] / patient_scan_details['img_count'].sum()\n",
    "\n",
    "# Calculate percent (of all images) that were taken by each machine for each patient \n",
    "machine_labels = dict(frame_to_split['image_manu'].value_counts())\n",
    "for machine in machine_labels:\n",
    "    this_machine = frame_to_split[frame_to_split['image_manu'] == machine]\n",
    "    this_machine_count = this_machine.groupby('subj_id').image_manu.count()\n",
    "#     patient_scan_details[\"percent_\" + machine] = this_machine.groupby('subj_id').image_manu.count() / len(frame_to_split)\n",
    "    patient_scan_details[machine] = this_machine.groupby('subj_id').image_manu.count()\n",
    "\n",
    "# Replace nans with 0s because they're easier to work with\n",
    "patient_scan_details = patient_scan_details.fillna(0)\n",
    "print(patient_scan_details.sum(axis = 0))"
   ]
  },
  {
   "cell_type": "code",
   "execution_count": 196,
   "metadata": {},
   "outputs": [
    {
     "name": "stdout",
     "output_type": "stream",
     "text": [
      "0.06436811325961456\n"
     ]
    },
    {
     "data": {
      "text/plain": [
       "(array([1086, 1089, 1084, 1110, 1030, 1045, 1020, 1083, 1056, 1044, 1074,\n",
       "        1077, 1046, 1107, 1062, 1049, 1018, 1064, 1098, 1019, 1026, 1105,\n",
       "        1048, 1060, 1023, 1031, 1106, 1069, 1005, 1014, 1032, 1101, 1079,\n",
       "        1043, 1003, 1033, 1053, 1029, 1081, 1073, 1068, 1095, 1038, 1061,\n",
       "        1022, 1025, 1002, 1011, 1066, 1108, 1058, 1041, 1085, 1036, 1050,\n",
       "        1088]),\n",
       " array([1007, 1035, 1109, 1090, 1065, 1096, 1034, 1021, 1094, 1015, 1071,\n",
       "        1072, 1008, 1004, 1059]))"
      ]
     },
     "execution_count": 196,
     "metadata": {},
     "output_type": "execute_result"
    }
   ],
   "source": [
    "def calculate_scanner_proportion_diff(patient_scan_details, train, test):\n",
    "    train_machine_counts = patient_scan_details[patient_scan_details.index.isin(train)]\n",
    "    test_machine_counts = patient_scan_details[patient_scan_details.index.isin(test)]\n",
    "\n",
    "    proportions_test = test_machine_counts.sum(axis=0) / test_machine_counts['img_count'].sum()\n",
    "    proportions_train = train_machine_counts.sum(axis=0) / train_machine_counts['img_count'].sum()\n",
    "    diff = abs(proportions_train - proportions_test)\n",
    "    \n",
    "    return diff.sum()\n",
    "\n",
    "\n",
    "def select_split(df, patient_scan_details, test_percentage=0.2, num_trials=10000):\n",
    "    lowest_diff = 100\n",
    "    lowest_diff_seed = 0\n",
    "    \n",
    "    for i in range(num_trials):\n",
    "        patients = df.subj_id.unique()\n",
    "        train, test = train_test_split(patients, test_size=test_percentage, random_state=i)\n",
    "        cur_diff = calculate_scanner_proportion_diff(patient_scan_details, train, test)\n",
    "        if cur_diff < lowest_diff:\n",
    "            lowest_diff = cur_diff\n",
    "            lowest_diff_seed = i\n",
    "            \n",
    "    print(lowest_diff)\n",
    "    \n",
    "    # Split on the best state we found\n",
    "    train, test = train_test_split(patients, test_size=test_percentage, random_state=lowest_diff_seed)\n",
    "    cur_diff = calculate_scanner_proportion_diff(patient_scan_details, train, test)\n",
    "    \n",
    "    return train, test\n",
    "    \n",
    "\n",
    "    \n",
    "    \n",
    "train_subjs, test_subjs = select_split(frame_to_split, patient_scan_details)"
   ]
  }
 ],
 "metadata": {
  "kernelspec": {
   "display_name": "Python 3",
   "language": "python",
   "name": "python3"
  },
  "language_info": {
   "codemirror_mode": {
    "name": "ipython",
    "version": 3
   },
   "file_extension": ".py",
   "mimetype": "text/x-python",
   "name": "python",
   "nbconvert_exporter": "python",
   "pygments_lexer": "ipython3",
   "version": "3.6.9"
  }
 },
 "nbformat": 4,
 "nbformat_minor": 2
}
