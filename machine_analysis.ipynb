{
 "cells": [
  {
   "cell_type": "code",
   "execution_count": 1,
   "metadata": {
    "colab": {},
    "colab_type": "code",
    "id": "pZbZRovgc-In"
   },
   "outputs": [],
   "source": [
    "import pandas as pd\n",
    "import numpy as np\n",
    "\n",
    "import json\n",
    "\n",
    "import matplotlib.pyplot as plt\n",
    "from sklearn.metrics import *\n",
    "import time\n",
    "import os\n",
    "\n",
    "\n",
    "import warnings\n",
    "warnings.filterwarnings('ignore')\n",
    "\n",
    "import wandb\n",
    "wandb_username = 'andreasabo'\n",
    "local_username = 'andreasabo'"
   ]
  },
  {
   "cell_type": "code",
   "execution_count": 2,
   "metadata": {},
   "outputs": [],
   "source": [
    "# root directory\n",
    "root_dir = \"/home/andreasabo/Documents/HNProject/\"\n",
    "split_file_base = \"/home/andreasabo/Documents/HNUltra/\"\n",
    "\n",
    "# data directory on current machine: abhishekmoturu, andreasabo, denizjafari, navidkorhani\n",
    "data_dir = \"/home/\" + local_username + \"/Documents/HNProject/all_label_img/\"\n",
    "test_data_dir = \"/home/\" + local_username + \"/Documents/HNProject/HNUltra.csv\"\n",
    "\n",
    "# read target df\n",
    "csv_path = os.path.join(root_dir, \"all_splits_1000000.csv\")\n",
    "data_df = pd.read_csv(csv_path, usecols=['image_manu', 'image_ids'])\n",
    "# data_df = pd.read_csv(csv_path)\n",
    "\n",
    "\n",
    "label_mapping = {'Other':0, 'Saggital_Right':1, 'Transverse_Right':2, \n",
    "                 'Saggital_Left':3, 'Transverse_Left':4, 'Bladder':5}\n",
    "label_unmapping = {0: 'Other', 1:'Saggital_Right', 2: 'Transverse_Right', \n",
    "                   3:'Saggital_Left', 4:'Transverse_Left', 5: 'Bladder'}\n",
    "\n"
   ]
  },
  {
   "cell_type": "code",
   "execution_count": 3,
   "metadata": {},
   "outputs": [
    {
     "name": "stdout",
     "output_type": "stream",
     "text": [
      "                    machine  acc_mean   acc_std   f1_mean    f1_std  support\n",
      "0   Philips Medical Systems  0.640164  0.019105  0.622500  0.026304     2679\n",
      "1               TOSHIBA_MEC  0.616775  0.019479  0.627448  0.023442     1848\n",
      "2            TOSHIBA_MEC_US  0.631395  0.049688  0.422231  0.088874      172\n",
      "3                    ACUSON  0.506475  0.027900  0.434589  0.072985      139\n",
      "4                       ATL  0.644961  0.044234  0.622017  0.057515      129\n",
      "5        GE Medical Systems  0.435556  0.033259  0.282340  0.028097       90\n",
      "6  SAMSUNG MEDISON CO.,LTD.  0.600000  0.123077  0.465548  0.093104       13\n"
     ]
    }
   ],
   "source": [
    "# Compute accuracy and f1 score for each machine \n",
    "results_per_fold = {}\n",
    "for fold in '01234':\n",
    "    test_data = pd.read_csv(test_data_dir, usecols=[\"IDs_iter_\"+fold, \"labels_iter_\"+fold, \"preds_iter_\"+fold])\n",
    "    test_data[\"labels_iter_\"+fold] = test_data[\"labels_iter_\"+fold].map(label_unmapping)\n",
    "    test_data[\"preds_iter_\"+fold] = test_data[\"preds_iter_\"+fold].map(label_unmapping)\n",
    "    joined_df = test_data.set_index(\"IDs_iter_\"+fold).join(data_df.set_index('image_ids'))\n",
    "    \n",
    "    machine_manus = list(joined_df.image_manu.unique())\n",
    "    \n",
    "    for machine in machine_manus:\n",
    "        machine_data = joined_df[joined_df.image_manu == machine]\n",
    "        true_labels = machine_data[\"labels_iter_\"+fold]\n",
    "        preds = machine_data[\"preds_iter_\"+fold]\n",
    "        \n",
    "        if machine in results_per_fold:\n",
    "            results_per_fold[machine]['acc'].append(accuracy_score(true_labels, preds))\n",
    "            results_per_fold[machine]['f1'].append(f1_score(true_labels, preds, average='macro'))\n",
    "        else:\n",
    "            sub_dict = {}\n",
    "            sub_dict['acc'] = [accuracy_score(true_labels, preds)]\n",
    "            sub_dict['f1'] = [f1_score(true_labels, preds, average='macro')]\n",
    "            sub_dict['support'] = len(true_labels)\n",
    "            results_per_fold[machine]=sub_dict\n",
    "\n",
    "# Compute the mean and standard deviation of each machine\n",
    "mean_results = {'machine':[], 'acc_mean':[], 'acc_std':[], 'f1_mean':[], 'f1_std':[], 'support':[]}\n",
    "for machine in results_per_fold:\n",
    "    acc_np = np.asarray(results_per_fold[machine]['acc'])\n",
    "    f1_np = np.asarray(results_per_fold[machine]['f1'])\n",
    "    mean_acc, std_acc = acc_np.mean(), acc_np.std()\n",
    "    mean_f1, std_f1 = f1_np.mean(), f1_np.std()\n",
    "    \n",
    "    # Add to dictionary \n",
    "    mean_results['machine'].append(machine)\n",
    "    \n",
    "    mean_results['acc_mean'].append(mean_acc)\n",
    "    mean_results['acc_std'].append(std_acc)\n",
    "    mean_results['f1_mean'].append(mean_f1)\n",
    "    mean_results['f1_std'].append(std_f1)\n",
    "    mean_results['support'].append(results_per_fold[machine]['support'])\n",
    "    \n",
    "results_df = pd.DataFrame(mean_results)  \n",
    "print(results_df)\n"
   ]
  }
 ],
 "metadata": {
  "colab": {
   "name": "image_label.ipynb",
   "provenance": []
  },
  "kernelspec": {
   "display_name": "Python 3",
   "language": "python",
   "name": "python3"
  },
  "language_info": {
   "codemirror_mode": {
    "name": "ipython",
    "version": 3
   },
   "file_extension": ".py",
   "mimetype": "text/x-python",
   "name": "python",
   "nbconvert_exporter": "python",
   "pygments_lexer": "ipython3",
   "version": "3.6.9"
  }
 },
 "nbformat": 4,
 "nbformat_minor": 4
}
