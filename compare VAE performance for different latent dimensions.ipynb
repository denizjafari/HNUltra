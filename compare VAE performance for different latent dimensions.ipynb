{
 "cells": [
  {
   "cell_type": "code",
   "execution_count": null,
   "metadata": {},
   "outputs": [],
   "source": [
    "import numpy as np\n",
    "import matplotlib.pyplot as plt"
   ]
  },
  {
   "cell_type": "code",
   "execution_count": null,
   "metadata": {},
   "outputs": [],
   "source": [
    "configs = ['h800_l40_e30', 'h800_l50_e30', 'h800_l60_e30', 'h800_l100_e30', 'h800_l200_e30', 'h2000_l400_e100']\n",
    "filenames = ['epoch_loss_array.npy', 'test_loss_array.npy']\n",
    "names = ['train loss', 'test loss']\n",
    "\n",
    "# Two subplots, the axes array is 1-d\n",
    "f, axarr = plt.subplots(len(filenames), figsize=(15,15))\n",
    "\n",
    "for j in range(len(filenames)):\n",
    "    #print(filenames[j])\n",
    "    axarr[j].set_title(names[j])\n",
    "    axarr[j].set_xlabel('epochs')\n",
    "    axarr[j].set_ylabel('log loss')\n",
    "    for i in range(len(configs)):\n",
    "        #print(configs[i])\n",
    "        s = 'results/{}/{}'.format(configs[i], filenames[j])\n",
    "        #print(s)\n",
    "        a = np.load(s)\n",
    "        if a[0] < 1000:\n",
    "            a = a*128\n",
    "        np.save(s, a)\n",
    "        #print(a)\n",
    "        axarr[j].plot(np.log(a[:30]), label=\"D - %s\" % configs[i].split('_')[1][1:])\n",
    "    axarr[j].legend()\n",
    "    "
   ]
  },
  {
   "cell_type": "code",
   "execution_count": null,
   "metadata": {},
   "outputs": [],
   "source": [
    "configs = ['h800_l100_e100', 'h2000_l400_e100']\n",
    "filenames = ['epoch_loss_array.npy', 'test_loss_array.npy']\n",
    "names = ['train loss', 'test loss']\n",
    "\n",
    "# Two subplots, the axes array is 1-d\n",
    "f, axarr = plt.subplots(len(filenames), figsize=(15,15))\n",
    "\n",
    "for j in range(len(filenames)):\n",
    "    #print(filenames[j])\n",
    "    axarr[j].set_title(names[j])\n",
    "    axarr[j].set_xlabel('epochs')\n",
    "    axarr[j].set_ylabel('log loss')\n",
    "    for i in range(len(configs)):\n",
    "        #print(configs[i])\n",
    "        s = 'results/{}/{}'.format(configs[i], filenames[j])\n",
    "        #print(s)\n",
    "        a = np.load(s)\n",
    "        if a[0] < 1000:\n",
    "            a = a*128\n",
    "        np.save(s, a)\n",
    "        #print(a)\n",
    "        axarr[j].plot(np.log(a), label=\"D - %s\" % configs[i].split('_')[1][1:])\n",
    "    axarr[j].legend()"
   ]
  },
  {
   "cell_type": "code",
   "execution_count": null,
   "metadata": {},
   "outputs": [],
   "source": []
  },
  {
   "cell_type": "code",
   "execution_count": null,
   "metadata": {},
   "outputs": [],
   "source": [
    "dct = {'list_1' : [1,2,4,3,1],'list_2' : [2,4,5,1,2],'list_3' : [1,1,3,4,6],'list_4' : [1,1,2,2,1]}\n",
    "\n",
    "xs = [0,1,2,3,4]\n",
    "\n",
    "\n",
    "for i in [1,2,3,4]:\n",
    "    plt.plot(xs,dct['list_%s' %i], label='%s data' % i)\n",
    "    \n",
    "plt.legend()"
   ]
  },
  {
   "cell_type": "code",
   "execution_count": null,
   "metadata": {},
   "outputs": [],
   "source": [
    "# Two subplots, the axes array is 1-d\n",
    "plt.clf()\n",
    "\n",
    "filename = 'test_loss_array.npy'\n",
    "#print(filenames[j])\n",
    "plt.title(names[j])\n",
    "plt.xlabel('epochs')\n",
    "plt.ylabel('log loss')\n",
    "for i in range(len(configs)):\n",
    "    #print(configs[i])\n",
    "    s = 'results/{}/{}'.format(configs[i], filename)\n",
    "    #print(s)\n",
    "    a = np.load(s)\n",
    "    if a[0] < 1000:\n",
    "        a = a*128\n",
    "    np.save(s, a)\n",
    "    #print(a)\n",
    "    plt.plot(np.log(a[30]), label=\"D - %s\" % configs[i].split('_')[1][1:])\n",
    "    \n",
    "plt.legend()\n",
    "    "
   ]
  },
  {
   "cell_type": "code",
   "execution_count": null,
   "metadata": {},
   "outputs": [],
   "source": [
    "a = np.array([1,2,3,4,5])\n",
    "b = np.array([1,2,4,4,4])"
   ]
  },
  {
   "cell_type": "code",
   "execution_count": null,
   "metadata": {},
   "outputs": [],
   "source": [
    "np.sum(a==b)/len(a)"
   ]
  },
  {
   "cell_type": "code",
   "execution_count": null,
   "metadata": {},
   "outputs": [],
   "source": []
  }
 ],
 "metadata": {
  "kernelspec": {
   "display_name": "Python 3",
   "language": "python",
   "name": "python3"
  },
  "language_info": {
   "codemirror_mode": {
    "name": "ipython",
    "version": 3
   },
   "file_extension": ".py",
   "mimetype": "text/x-python",
   "name": "python",
   "nbconvert_exporter": "python",
   "pygments_lexer": "ipython3",
   "version": "3.6.9"
  }
 },
 "nbformat": 4,
 "nbformat_minor": 4
}