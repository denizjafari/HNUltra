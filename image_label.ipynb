{
 "cells": [
  {
   "cell_type": "code",
   "execution_count": null,
   "metadata": {},
   "outputs": [],
   "source": [
    "\n",
    "import torch\n",
    "import torch.nn as nn\n",
    "import torch.optim as optim\n",
    "import torch.nn.functional as F\n",
    "from torch.utils.data import DataLoader\n"
   ]
  },
  {
   "cell_type": "code",
   "execution_count": null,
   "metadata": {},
   "outputs": [],
   "source": [
    "if torch.cuda.is_available():\n",
    "    device = torch.device('cuda') \n",
    "else:\n",
    "    device = torch.device('cpu')"
   ]
  },
  {
   "cell_type": "code",
   "execution_count": null,
   "metadata": {},
   "outputs": [],
   "source": [
    "# Use dataloader to load the data\n",
    "\n",
    "# Read data from file\n",
    "\n",
    "# tansform the data into the desired shape\n",
    "\n",
    "\n",
    "# split on the train and test\n",
    "\n",
    "\n",
    "# convert into tensor\n",
    "\n",
    "\n",
    "\n",
    "# Data Loading\n",
    "batch_size = 100\n",
    "\n",
    "train_loader = DataLoader(dataset=train_dataset, batch_size=batch_size, shuffle=True)\n",
    "test_loader = DataLoader(dataset=test_dataset, batch_size=batch_size, shuffle=False)\n",
    "\n"
   ]
  },
  {
   "cell_type": "code",
   "execution_count": null,
   "metadata": {},
   "outputs": [],
   "source": [
    "# Define a small CNN that processes 2-channel images\n",
    "# and output the view label of the image, the output should be one of five labels\n",
    "# kidney_right_sag, kidney_right_trav, kidney_left_sag, kidney_left_trav, bladder\n",
    "\n",
    "class Net(nn.Module):\n",
    "    # Initialize our layers, i.e. the set of trainable parameters\n",
    "    def __init__(self):\n",
    "        super(Net, self).__init__()\n",
    "        # A convolutional layer\n",
    "        # The number of input channels is 2 greyscale\n",
    "        self.conv1 = nn.Conv2d(2, 6, 5)\n",
    "        # A max pooling layer (will be reused for each conv layer)\n",
    "        self.pool = nn.MaxPool2d(2, 2)\n",
    "        # Another convolutional layer\n",
    "        self.conv2 = nn.Conv2d(4, 16, 5)\n",
    "        # Three sets of fully connected (linear) layers \n",
    "        self.fc1 = nn.Linear(16 * 5 * 5, 120)\n",
    "        self.fc2 = nn.Linear(120, 84)\n",
    "        self.fc3 = nn.Linear(84, 5)\n",
    "\n",
    "    def forward(self, x):\n",
    "        # For each conv layer: conv -> relu -> pooling\n",
    "        x = self.pool(F.relu(self.conv1(x)))\n",
    "        x = self.pool(F.relu(self.conv2(x)))\n",
    "        # Reshape from higher dimensional tensor to a vector for the FC layers\n",
    "        x = x.view(-1, 16 * 5 * 5)\n",
    "        # Pass through fully connected layers\n",
    "        x = F.relu(self.fc1(x))\n",
    "        x = F.relu(self.fc2(x))\n",
    "        x = self.fc3(x)\n",
    "        return x\n",
    "\n",
    "model = Net()\n",
    "model = model.to(device)\n",
    "model"
   ]
  },
  {
   "cell_type": "code",
   "execution_count": null,
   "metadata": {},
   "outputs": [],
   "source": [
    "# Look at the network structure\n",
    "print(model.state_dict().keys())\n",
    "print(\"Conv1:\",model.conv1.weight.size())\n",
    "print(\"Conv2:\",model.conv2.weight.size())\n",
    "print(\"fc1:\",model.fc1.weight.size())\n",
    "print(\"fc2:\",model.fc2.weight.size())\n",
    "print(\"fc3:\",model.fc3.weight.size())"
   ]
  },
  {
   "cell_type": "code",
   "execution_count": null,
   "metadata": {},
   "outputs": [],
   "source": [
    "criterion = nn.CrossEntropyLoss()\n",
    "optimizer = optim.SGD(net.parameters(), lr=0.001, momentum=0.9)\n",
    "\n",
    "for epoch in range(5):\n",
    "    running_loss = 0.0\n",
    "    num_total = 0.0\n",
    "    num_correct = 0.0\n",
    "\n",
    "    for i, (inputs, labels) in enumerate(trainloader, 0):\n",
    "        inputs, labels = inputs.to(device), labels.to(device)\n",
    "\n",
    "        outputs = model(inputs)              # Forward\n",
    "        loss = criterion(outputs, labels)  # Compute loss\n",
    "        optimizer.zero_grad()              # Zero the parameter gradients\n",
    "        loss.backward()                    # Backward\n",
    "        optimizer.step()                   # Gradient step\n",
    "\n",
    "        num_correct += (torch.argmax(outputs, dim=1) == labels).sum().float()\n",
    "        num_total += labels.size(0)\n",
    "        \n",
    "        # Print statistics\n",
    "        running_loss += loss.item()\n",
    "        if (i+1) % 1000 == 0:    # print every 2000 mini-batches\n",
    "            print('[{}, {:5d}] loss: {:6.4f}, acc: {:6.4f}'.format(\n",
    "                   epoch + 1, i + 1, running_loss / 2000, num_correct / num_total))\n",
    "            running_loss = 0.0\n",
    "\n",
    "print('Finished Training')"
   ]
  },
  {
   "cell_type": "code",
   "execution_count": null,
   "metadata": {},
   "outputs": [],
   "source": [
    "# Overall accuracy on the test set\n",
    "correct, total = 0, 0\n",
    "for images, labels in testloader:\n",
    "    images, labels = images.to(device), labels.to(device)\n",
    "    outputs = model(images)\n",
    "    predicted = torch.argmax(outputs, dim=1)\n",
    "    total += labels.size(0)\n",
    "    correct += (predicted == labels).sum()\n",
    "print('Accuracy on test set: %d %%' % (100 * correct / total))"
   ]
  }
 ],
 "metadata": {
  "kernelspec": {
   "display_name": "csc2541",
   "language": "python",
   "name": "csc2541"
  },
  "language_info": {
   "codemirror_mode": {
    "name": "ipython",
    "version": 3
   },
   "file_extension": ".py",
   "mimetype": "text/x-python",
   "name": "python",
   "nbconvert_exporter": "python",
   "pygments_lexer": "ipython3",
   "version": "3.8.1"
  }
 },
 "nbformat": 4,
 "nbformat_minor": 2
}
